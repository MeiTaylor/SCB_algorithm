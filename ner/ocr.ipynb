{
 "cells": [
  {
   "cell_type": "code",
   "execution_count": 4,
   "metadata": {},
   "outputs": [],
   "source": [
    "import cv2\n",
    "\n",
    "\n",
    "# 读入图像\n",
    "img = cv2.imread('1.jpg')\n",
    "\n",
    "# 转换为灰度图像\n",
    "gray = cv2.cvtColor(img, cv2.COLOR_BGR2GRAY)\n",
    "\n",
    "# 使用Otsu's方法进行二值化\n",
    "_, binary = cv2.threshold(gray, 0, 255, cv2.THRESH_BINARY_INV + cv2.THRESH_OTSU)\n",
    "\n",
    "\n",
    "# 定义一个5x5的结构元素\n",
    "kernel = cv2.getStructuringElement(cv2.MORPH_RECT, (5, 5))\n",
    "\n",
    "# 进行开运算\n",
    "opened = cv2.morphologyEx(binary, cv2.MORPH_OPEN, kernel)\n"
   ]
  },
  {
   "cell_type": "code",
   "execution_count": 2,
   "metadata": {},
   "outputs": [
    {
     "ename": "ImportError",
     "evalue": "DLL load failed: 找不到指定的模块。",
     "output_type": "error",
     "traceback": [
      "\u001b[1;31m---------------------------------------------------------------------------\u001b[0m",
      "\u001b[1;31mImportError\u001b[0m                               Traceback (most recent call last)",
      "\u001b[1;32m~\\AppData\\Local\\Temp\\ipykernel_28420\\921563220.py\u001b[0m in \u001b[0;36m<module>\u001b[1;34m\u001b[0m\n\u001b[1;32m----> 1\u001b[1;33m \u001b[1;32mimport\u001b[0m \u001b[0mcv2\u001b[0m\u001b[1;33m\u001b[0m\u001b[1;33m\u001b[0m\u001b[0m\n\u001b[0m\u001b[0;32m      2\u001b[0m \u001b[1;32mimport\u001b[0m \u001b[0mpytesseract\u001b[0m\u001b[1;33m\u001b[0m\u001b[1;33m\u001b[0m\u001b[0m\n\u001b[0;32m      3\u001b[0m \u001b[1;32mfrom\u001b[0m \u001b[0mpytesseract\u001b[0m \u001b[1;32mimport\u001b[0m \u001b[0mOutput\u001b[0m\u001b[1;33m\u001b[0m\u001b[1;33m\u001b[0m\u001b[0m\n\u001b[0;32m      4\u001b[0m \u001b[1;33m\u001b[0m\u001b[0m\n\u001b[0;32m      5\u001b[0m \u001b[1;31m# 读入图像\u001b[0m\u001b[1;33m\u001b[0m\u001b[1;33m\u001b[0m\u001b[1;33m\u001b[0m\u001b[0m\n",
      "\u001b[1;31mImportError\u001b[0m: DLL load failed: 找不到指定的模块。"
     ]
    }
   ],
   "source": [
    "import cv2\n",
    "import pytesseract\n",
    "from pytesseract import Output\n",
    "\n",
    "# 读入图像\n",
    "img = cv2.imread('1.jpg')\n",
    "\n",
    "# 使用 Tesseract 进行文本检测，返回结果的数据结构为字典\n",
    "d = pytesseract.image_to_data(img, output_type=Output.DICT)\n",
    "\n",
    "# 遍历所有检测到的文本区域\n",
    "n_boxes = len(d['text'])\n",
    "for i in range(n_boxes):\n",
    "    # 如果文本区域的置信度不为0\n",
    "    if int(d['conf'][i]) > 0:\n",
    "        # 获取文本区域的坐标\n",
    "        (x, y, w, h) = (d['left'][i], d['top'][i], d['width'][i], d['height'][i])\n",
    "\n",
    "        # 在原图上画出文本区域\n",
    "        img = cv2.rectangle(img, (x, y), (x + w, y + h), (0, 255, 0), 2)\n",
    "\n",
    "# 显示带有文本区域的图像\n",
    "cv2.imshow('img', img)\n",
    "cv2.waitKey(0)\n"
   ]
  },
  {
   "cell_type": "code",
   "execution_count": 1,
   "metadata": {},
   "outputs": [
    {
     "name": "stderr",
     "output_type": "stream",
     "text": [
      "Cloning into 'CRAFT-pytorch'...\n"
     ]
    }
   ],
   "source": [
    "!git clone https://github.com/clovaai/CRAFT-pytorch.git\n"
   ]
  },
  {
   "cell_type": "code",
   "execution_count": 2,
   "metadata": {},
   "outputs": [
    {
     "name": "stdout",
     "output_type": "stream",
     "text": [
      "e:\\softbei\\code\\CRAFT-pytorch\n"
     ]
    }
   ],
   "source": [
    "%cd CRAFT-pytorch\n"
   ]
  },
  {
   "cell_type": "code",
   "execution_count": 4,
   "metadata": {},
   "outputs": [
    {
     "name": "stdout",
     "output_type": "stream",
     "text": [
      "Note: you may need to restart the kernel to use updated packages.\n"
     ]
    },
    {
     "name": "stderr",
     "output_type": "stream",
     "text": [
      "WARNING: Ignoring invalid distribution -penai (d:\\study\\anaconda\\install\\relate\\envs\\open\\lib\\site-packages)\n",
      "ERROR: Could not find a version that satisfies the requirement torch==0.4.1.post2 (from versions: 1.7.0, 1.7.1, 1.8.0, 1.8.1, 1.9.0, 1.9.1, 1.10.0, 1.10.1, 1.10.2, 1.11.0, 1.12.0, 1.12.1, 1.13.0, 1.13.1)\n",
      "ERROR: No matching distribution found for torch==0.4.1.post2\n"
     ]
    }
   ],
   "source": [
    "%pip install -r requirements.txt"
   ]
  },
  {
   "cell_type": "code",
   "execution_count": 1,
   "metadata": {},
   "outputs": [
    {
     "name": "stderr",
     "output_type": "stream",
     "text": [
      "python: can't open file 'test.py': [Errno 2] No such file or directory\n"
     ]
    }
   ],
   "source": [
    "!python test.py --trained_model=[path_to_your_weight_file] --test_folder=[path_to_your_images]\n"
   ]
  },
  {
   "cell_type": "code",
   "execution_count": null,
   "metadata": {},
   "outputs": [],
   "source": [
    "import cv2\n",
    "import numpy as np\n",
    "\n",
    "# Load the image\n",
    "img = cv2.imread('1.jpg')\n",
    "\n",
    "# Convert to grayscale\n",
    "gray = cv2.cvtColor(img, cv2.COLOR_BGR2GRAY)\n",
    "\n",
    "# Use Otsu's method to binarize the image\n",
    "_, binary = cv2.threshold(gray, 0, 255, cv2.THRESH_BINARY_INV + cv2.THRESH_OTSU)\n",
    "\n",
    "# Threshold for empty space\n",
    "vertical_empty_space_threshold = binary.shape[1] * 255 * 0.02  # Adjust this value according to your image\n",
    "horizontal_empty_space_threshold = binary.shape[0] * 255 * 0.02  # Adjust this value according to your image\n",
    "\n",
    "# Initialize the previous split point\n",
    "prev_vertical_split_point = 0\n",
    "\n",
    "# Compute the vertical projection of the binary image\n",
    "vertical_projection = np.sum(binary, axis=1)\n",
    "\n",
    "# Find the empty spaces\n",
    "vertical_empty_spaces = np.where(vertical_projection <= vertical_empty_space_threshold)[0]\n",
    "\n",
    "# Initialize the list of split points\n",
    "vertical_split_points = []\n",
    "\n",
    "# Initialize the previous empty space\n",
    "prev_vertical_empty_space = -1\n",
    "\n",
    "# Loop over the empty spaces\n",
    "for empty_space in vertical_empty_spaces:\n",
    "    if prev_vertical_empty_space != -1 and empty_space - prev_vertical_empty_space > 1:\n",
    "        # If there is a gap between two empty spaces, add a split point\n",
    "        vertical_split_points.append((prev_vertical_empty_space + empty_space) // 2)\n",
    "    prev_vertical_empty_space = empty_space\n",
    "\n",
    "# Add the end of the image as the last split point\n",
    "vertical_split_points.append(binary.shape[0])\n",
    "\n",
    "# Loop over the split points\n",
    "for i, vertical_split_point in enumerate(vertical_split_points):\n",
    "    # Cut the image at the split point\n",
    "    vertical_part = img[prev_vertical_split_point:vertical_split_point, :]\n",
    "\n",
    "    # Compute the horizontal projection of the binary image\n",
    "    horizontal_projection = np.sum(binary[prev_vertical_split_point:vertical_split_point, :], axis=0)\n",
    "\n",
    "    # Find the empty spaces\n",
    "    horizontal_empty_spaces = np.where(horizontal_projection <= horizontal_empty_space_threshold)[0]\n",
    "\n",
    "    # Initialize the list of split points\n",
    "    horizontal_split_points = []\n",
    "\n",
    "    # Initialize the previous empty space\n",
    "    prev_horizontal_empty_space = -1\n",
    "\n",
    "    # Loop over the empty spaces\n",
    "    for empty_space in horizontal_empty_spaces:\n",
    "        if prev_horizontal_empty_space != -1 and empty_space - prev_horizontal_empty_space > 1:\n",
    "            # If there is a gap between two empty spaces, add a split point\n",
    "            horizontal_split_points.append((prev_horizontal_empty_space + empty_space) // 2)\n",
    "        prev_horizontal_empty_space = empty_space\n",
    "\n",
    "    # Add the end of the image as the last split point\n",
    "    horizontal_split_points.append(vertical_part.shape[1])\n",
    "\n",
    "    # Initialize the previous split point\n",
    "    prev_horizontal_split_point = 0\n",
    "\n",
    "    # Loop over the split points\n",
    "    for j, horizontal_split_point in enumerate(horizontal_split_points):\n",
    "        # Cut the image at the split point\n",
    "        part = vertical_part[:, prev_horizontal_split_point:horizontal_split_point]\n",
    "\n",
    "        # Save the part\n",
    "        cv2.imwrite(f'picture/part_{i}_{j}.jpg', part)\n",
    "\n",
    "        # Update the previous split point\n",
    "        prev_horizontal_split_point = horizontal_split_point\n",
    "\n",
    "    # Update the previous split point\n",
    "    prev_vertical_split_point = vertical_split_point\n"
   ]
  }
 ],
 "metadata": {
  "kernelspec": {
   "display_name": "base",
   "language": "python",
   "name": "python3"
  },
  "language_info": {
   "codemirror_mode": {
    "name": "ipython",
    "version": 3
   },
   "file_extension": ".py",
   "mimetype": "text/x-python",
   "name": "python",
   "nbconvert_exporter": "python",
   "pygments_lexer": "ipython3",
   "version": "3.7.12"
  },
  "orig_nbformat": 4
 },
 "nbformat": 4,
 "nbformat_minor": 2
}
