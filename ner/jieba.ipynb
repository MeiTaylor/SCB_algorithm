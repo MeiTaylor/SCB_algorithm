{
 "cells": [
  {
   "cell_type": "code",
   "execution_count": 27,
   "metadata": {},
   "outputs": [
    {
     "name": "stdout",
     "output_type": "stream",
     "text": [
      "助理 0.16451647051812499\n",
      "猫眼 0.1580701252828125\n",
      "9999 0.12452882815520833\n",
      "2022.3 0.12452882815520833\n",
      "2021.2 0.12452882815520833\n",
      "北京 0.09723754809833333\n",
      "国际 0.09319191252104166\n",
      "企业 0.08795358718645833\n",
      "证书 0.08762229089395833\n",
      "有限公司 0.08115142013953125\n",
      "英语 0.0772982613546875\n",
      "场所 0.07391732429072917\n",
      "管理 0.0730354234346875\n",
      "经济学 0.072687851671875\n",
      "部长 0.06750102861\n",
      "质量检查 0.06667742376718751\n",
      "财富 0.06632832129708334\n",
      "社交能力 0.06517907964010416\n",
      "政治面貌 0.06401687364322917\n",
      "行政 0.06374085096604167\n"
     ]
    }
   ],
   "source": [
    "import jieba.analyse\n",
    "\n",
    "# 读取文本文件\n",
    "with open('1.txt', 'r', encoding='utf-8') as f:\n",
    "    text = f.read()\n",
    "\n",
    "# 使用 jieba.analyse.extract_tags() 方法进行关键词抽取\n",
    "tags = jieba.analyse.extract_tags(text, topK=20, withWeight=True)\n",
    "\n",
    "# 输出抽取出的关键词及其权重\n",
    "for tag, weight in tags:\n",
    "    print(tag, weight)\n",
    "\n",
    "# print(tags[0].count)\n",
    "# print(tags[0].index)\n",
    "#dir(tags[0].index)\n",
    "#type(tags[0])\n",
    "#type(tags.tail)\n",
    "\n",
    "\n",
    "\n"
   ]
  },
  {
   "cell_type": "code",
   "execution_count": 9,
   "metadata": {},
   "outputs": [
    {
     "name": "stdout",
     "output_type": "stream",
     "text": [
      "北京 1.0\n",
      "企业 0.9606727556653758\n",
      "国际 0.8849107067384306\n",
      "猫眼 0.7830523672808019\n",
      "有限公司 0.7434096996414015\n",
      "助理 0.7419822934343417\n",
      "负责 0.6952023720746772\n",
      "场所 0.6607865485689859\n",
      "制定 0.6551415915597145\n",
      "证书 0.6341479559594767\n",
      "目标 0.6173609993542738\n",
      "管理 0.604457679504606\n",
      "环境 0.5633623350984547\n",
      "经济学 0.5504482952342827\n",
      "公司 0.5180922463824533\n",
      "行政 0.49739663571062315\n",
      "经济 0.47585676087716905\n",
      "教育 0.4646098547677831\n",
      "工作 0.45356398159476585\n",
      "精神 0.4497002817160214\n"
     ]
    }
   ],
   "source": [
    "import jieba.analyse\n",
    "\n",
    "# 读取文本文件\n",
    "with open('1.txt', 'r', encoding='utf-8') as f:\n",
    "    text = f.read()\n",
    "\n",
    "# 使用 jieba.analyse.textrank() 方法进行关键词抽取\n",
    "tags = jieba.analyse.textrank(text, topK=20, withWeight=True)\n",
    "\n",
    "# 输出抽取出的关键词及其权重\n",
    "for tag, weight in tags:\n",
    "    print(tag, weight)\n"
   ]
  },
  {
   "cell_type": "code",
   "execution_count": 1,
   "metadata": {},
   "outputs": [
    {
     "name": "stderr",
     "output_type": "stream",
     "text": [
      "[nltk_data] Downloading package punkt to /home/codespace/nltk_data...\n",
      "[nltk_data]   Package punkt is already up-to-date!\n",
      "[nltk_data] Downloading package averaged_perceptron_tagger to\n",
      "[nltk_data]     /home/codespace/nltk_data...\n",
      "[nltk_data]   Package averaged_perceptron_tagger is already up-to-\n",
      "[nltk_data]       date!\n",
      "[nltk_data] Downloading package maxent_ne_chunker to\n",
      "[nltk_data]     /home/codespace/nltk_data...\n",
      "[nltk_data]   Package maxent_ne_chunker is already up-to-date!\n",
      "[nltk_data] Downloading package words to /home/codespace/nltk_data...\n",
      "[nltk_data]   Package words is already up-to-date!\n",
      "[nltk_data] Downloading package maxent_ne_chunker to\n",
      "[nltk_data]     /home/codespace/nltk_data...\n",
      "[nltk_data]   Package maxent_ne_chunker is already up-to-date!\n",
      "[nltk_data] Downloading package words to /home/codespace/nltk_data...\n",
      "[nltk_data]   Package words is already up-to-date!\n"
     ]
    }
   ],
   "source": [
    "import nltk\n",
    "nltk.download('punkt')\n",
    "nltk.download('averaged_perceptron_tagger')\n",
    "nltk.download('maxent_ne_chunker')\n",
    "nltk.download('words')\n",
    "\n",
    "\n",
    "from nltk import download\n",
    "download ('maxent_ne_chunker')\n",
    "download('words')\n",
    "\n",
    "from nltk import data\n",
    "data.path.append(r'/home/codespace/nltk_data')\n",
    "from nltk import pos_tag\n",
    "from nltk import ne_chunk\n",
    "from nltk import word_tokenize\n"
   ]
  },
  {
   "cell_type": "code",
   "execution_count": 2,
   "metadata": {},
   "outputs": [],
   "source": [
    "sentence = \"Alice’s Adventures in Wonderland is a popular novel in England.\""
   ]
  },
  {
   "cell_type": "code",
   "execution_count": 3,
   "metadata": {},
   "outputs": [
    {
     "data": {
      "text/plain": [
       "[Tree('GPE', [('Wonderland', 'NNP')]), Tree('GPE', [('England', 'NNP')])]"
      ]
     },
     "execution_count": 3,
     "metadata": {},
     "output_type": "execute_result"
    }
   ],
   "source": [
    "def get_ner(text):\n",
    "    i = ne_chunk(pos_tag(word_tokenize(text)))\n",
    "    return [a for a in i if len(a)==1]\n",
    "\n",
    "get_ner(sentence)"
   ]
  },
  {
   "cell_type": "code",
   "execution_count": 4,
   "metadata": {},
   "outputs": [],
   "source": [
    "import jieba\n",
    "import jieba.analyse\n",
    "import jieba.posseg as posg\n"
   ]
  },
  {
   "cell_type": "code",
   "execution_count": 29,
   "metadata": {},
   "outputs": [],
   "source": [
    "sentence = u'''张吉惟\n",
    "\n",
    "\tEXCEL\n",
    "\tPPT\n",
    "\tWORD\n",
    "\tAI\n",
    "\tPS\n",
    "\t个人技能\n",
    "\t出生年月：1998.11\n",
    "\t性    别：女\n",
    "\t籍    贯：北京海淀区\n",
    "\t学    历：本科\n",
    "\t政治面貌：党员\n",
    "\t身    高：178cm\n",
    "\t体    重：50kg\n",
    "\t工作经历\n",
    "\t自我评价\n",
    "\t个人爱好\n",
    "\t本人性格开朗、稳重、有活力，待人热情、真诚。有较强的组织能力、团体协作精神，较好的社交能力，善于处理各种人际关系。能迅速的适应各种环境，并融合其中。能把企业当作家庭，企业的财富就是我的财富，在努力为企业服务的过程中实现自身价值。\n",
    "\tzhangjiwei@163.com\n",
    "\t138 9999 9999\n",
    "求职意向：行政管理类\n",
    "\t基本信息\n",
    "\t2016\t全国大学生英语竞赛一等奖\n",
    "\t2017\t国家级一等奖学金\n",
    "\t2018\t大学英语6级证书（CET-6）\n",
    "\t奖励证书\n",
    "\t教育背景\n",
    "\t2015-2019\t国际经济与贸易\n",
    "\t北京师范大学\n",
    "\t政治经济学、西方经济学、国际经济学、计量经济学、世界经济概论、国际贸易理论与实务、国际金融、国际结算。\n",
    "\t2022.3至今\t部长助理\n",
    "\t北京猫眼机械有限公司\n",
    "\t质管部部长助理.负责票证车间生产质量检查,控制,兼任企业内审员,推行ISO9001:2008及ISO14000体系并年审。\n",
    "\t2021.2-2022.3\t总经理助理\n",
    "\t北京猫眼国际货运代理有限公司\n",
    "\t根据公司的经营理念和发展战略制定公司各工作岗位的工作目标;负责制定及推进公司员工的培训、绩效、薪酬的管理。\n",
    "\t2020.2-2021.2\t运营助理\n",
    "\t北京猫眼文化传媒有限公司\n",
    "\t根据目标管理综合考评内容，深入、细致地到所跟踪的各场所了解、掌握情况，帮助和促进各场所提高行政、后勤管理水平。'''\n",
    "\n",
    "kw = jieba.analyse.extract_tags(sentence,topK = 50,\n",
    "                                withWeight = True, allowPOS = ('TIME')\n",
    ")\n",
    "\n",
    "for item in kw:\n",
    "    print (item[0],item[1])"
   ]
  },
  {
   "cell_type": "code",
   "execution_count": 11,
   "metadata": {},
   "outputs": [],
   "source": [
    "import jieba\n",
    "import jieba.posseg as pseg\n",
    "\n",
    "# 打开待分词的文件\n",
    "with open('1.txt', 'r', encoding='utf-8') as f:\n",
    "    text = f.read()\n",
    "\n",
    "# 使用jieba默认模式进行分词\n",
    "words = pseg.cut(text)\n",
    "\n",
    "# 打开写入分词结果的文件\n",
    "with open('output.txt', 'w', encoding='utf-8') as f:\n",
    "    # 遍历分词结果并写入文件\n",
    "    for word, flag in words:\n",
    "        f.write('%s %s\\n' % (word, flag))\n"
   ]
  },
  {
   "cell_type": "code",
   "execution_count": 6,
   "metadata": {},
   "outputs": [
    {
     "name": "stderr",
     "output_type": "stream",
     "text": [
      "Paddle enabled successfully......\n",
      "[2023-05-12 07:35:02,494] [   DEBUG] _compat.py:47 - Paddle enabled successfully......\n"
     ]
    },
    {
     "name": "stdout",
     "output_type": "stream",
     "text": [
      "Paddle Mode（paddle模式）: 张吉惟/   EXCEL  PPT  WORD  AI  PS  /个人/技能/  /出生/年月/：/1998.11/  性    别：女  籍    贯：北京海淀区  学    历：本科  政治面貌：党员  身    高：178cm  体    重：50kg  /工作经历/  /自我/评价/  /个人/爱好/  /本人/性格/开朗/、稳重、有活力，待人/热情/、/真诚/。/有/较/强/的/组织/能力/、/团体/协作/精神/，/较好/的/社交/能力/，/善于/处理/各种/人际/关系/。/能/迅速/的/适应/各种/环境/，/并/融合/其中/。/能/把/企业/当作/家庭/，/企业/的/财富/就是我/的/财富/，/在/努力/为/企业/服务/的/过程/中/实现/自身/价值/。  zhangjiwei@163.com  138 9999 9999 /求职/意向/：/行政管理类/  /基本/信息/  /2016/ /全国/大学生/英语/竞赛/一等奖/  2017 国家级一等奖学金  2018 大学英语6级证书（CET-6）  奖励证书  教育背景  2015-2019 国际经济与贸易  北京师范大学  政治经济学、西方经济学、国际经济学、计量经济学、世界经济概论、国际贸易理论与实务、国际金融、国际结算。  /2022.3/至今/ /部长/助理/  /北京猫眼机械有限公司/  质管部/部长/助理/./负责/票证/车间/生产/质量/检查/,/控制/,/兼任/企业/内审员/,/推行/ISO/9001/:/2008/及/ISO/14000/体系/并/年审/。  /2021.2/-/2022.3/ /总经理/助理/  /北京猫眼国际货运代理有限公司/  /根据/公司/的/经营/理念/和/发展/战略/制定/公司/各/工作岗位/的/工作/目标/;/负责/制定/及/推进/公司/员工/的/培训/、/绩效/、/薪酬/的/管理/。/  /2020.2/-/2021.2 /运营/助理/  /北京猫眼文化传媒有限公司/  /根据/目标/管理/综合/考评/内容/，/深入/、/细致/地/到/所/跟踪/的/各/场所/了解/、/掌握/情况/，/帮助/和/促进/各/场所/提高/行政/、/后勤/管理/水平/。\n"
     ]
    }
   ],
   "source": [
    "# encoding=utf-8\n",
    "import jieba\n",
    "import paddle\n",
    "\n",
    "paddle.enable_static()\n",
    "\n",
    "jieba.enable_paddle()# 启动paddle模式。 0.40版之后开始支持，早期版本不支持\n",
    "\n",
    "str_zhang1 = \"张吉惟\\n\\n\\tEXCEL\\n\\tPPT\\n\\tWORD\\n\\tAI\\n\\tPS\\n\\t个人技能\\n\\t出生年月：1998.11\\n\\t性别：女\\n\\t籍贯：北京海淀区\\n\\t学历：本科\\n\\t政治面貌：党员\\n\\t身高：178cm\\n\\t体重：50kg\\n\\n\\t工作经历\\n\\t2022.3至今\\t部长助理\\n\\t北京猫眼机械有限公司\\n\\t质管部部长助理.负责票证车间生产质量检查,控制,兼任企业内审员,推行ISO9001:2008及ISO14000体系并年审。\\n\\n\\t自我评价\\n\\t本人性格开朗、稳重、有活力，待人热情、真诚。有较强的组织能力、团体协作精神，较好的社交能力，善于处理各种人际关系。能迅速适应各种环境，并融合其中。能把企业当作家庭，企业的财富就是我的财富，在努力为企业服务的过程中实现自身价值。\\n\\n\\t个人爱好\\n\\t求职意向：行政管理类\\n\\n\\t基本信息\\n\\t2016\\t全国大学生英语竞赛一等奖\\n\\t2017\\t国家级一等奖学金\\n\\t2018\\t大学英语6级证书（CET-6）\\n\\n\\t教育背景\\n\\t2015-2019\\t国际经济与贸易\\n\\t北京师范大学\\n\\t政治经济学、西方经济学、国际经济学、计量经济学、世界经济概论、国际贸易理论与实务、国际金融、国际结算。\"\n",
    "str_zhang = u'''张吉惟\n",
    "\n",
    "\tEXCEL\n",
    "\tPPT\n",
    "\tWORD\n",
    "\tAI\n",
    "\tPS\n",
    "\t个人技能\n",
    "\t出生年月：1998.11\n",
    "\t性    别：女\n",
    "\t籍    贯：北京海淀区\n",
    "\t学    历：本科\n",
    "\t政治面貌：党员\n",
    "\t身    高：178cm\n",
    "\t体    重：50kg\n",
    "\t工作经历\n",
    "\t自我评价\n",
    "\t个人爱好\n",
    "\t本人性格开朗、稳重、有活力，待人热情、真诚。有较强的组织能力、团体协作精神，较好的社交能力，善于处理各种人际关系。能迅速的适应各种环境，并融合其中。能把企业当作家庭，企业的财富就是我的财富，在努力为企业服务的过程中实现自身价值。\n",
    "\tzhangjiwei@163.com\n",
    "\t138 9999 9999\n",
    "求职意向：行政管理类\n",
    "\t基本信息\n",
    "\t2016\t全国大学生英语竞赛一等奖\n",
    "\t2017\t国家级一等奖学金\n",
    "\t2018\t大学英语6级证书（CET-6）\n",
    "\t奖励证书\n",
    "\t教育背景\n",
    "\t2015-2019\t国际经济与贸易\n",
    "\t北京师范大学\n",
    "\t政治经济学、西方经济学、国际经济学、计量经济学、世界经济概论、国际贸易理论与实务、国际金融、国际结算。\n",
    "\t2022.3至今\t部长助理\n",
    "\t北京猫眼机械有限公司\n",
    "\t质管部部长助理.负责票证车间生产质量检查,控制,兼任企业内审员,推行ISO9001:2008及ISO14000体系并年审。\n",
    "\t2021.2-2022.3\t总经理助理\n",
    "\t北京猫眼国际货运代理有限公司\n",
    "\t根据公司的经营理念和发展战略制定公司各工作岗位的工作目标;负责制定及推进公司员工的培训、绩效、薪酬的管理。\n",
    "\t2020.2-2021.2\t运营助理\n",
    "\t北京猫眼文化传媒有限公司\n",
    "\t根据目标管理综合考评内容，深入、细致地到所跟踪的各场所了解、掌握情况，帮助和促进各场所提高行政、后勤管理水平。'''\n",
    "seg_list = jieba.cut(str_zhang,use_paddle=True) # 使用paddle模式\n",
    "print(\"Paddle Mode（paddle模式）: \" + '/'.join(list(seg_list)))\n",
    "\n"
   ]
  },
  {
   "cell_type": "code",
   "execution_count": 4,
   "metadata": {},
   "outputs": [
    {
     "name": "stderr",
     "output_type": "stream",
     "text": [
      "Building prefix dict from the default dictionary ...\n",
      "Dumping model to file cache /tmp/jieba.cache\n",
      "Loading model cost 1.857 seconds.\n",
      "Prefix dict has been built successfully.\n"
     ]
    },
    {
     "name": "stdout",
     "output_type": "stream",
     "text": [
      "[('助理', 0.16451647051812499), ('猫眼', 0.1580701252828125), ('9999', 0.12452882815520833), ('2022.3', 0.12452882815520833), ('2021.2', 0.12452882815520833), ('北京', 0.09723754809833333), ('国际', 0.09319191252104166), ('企业', 0.08795358718645833), ('证书', 0.08762229089395833), ('有限公司', 0.08115142013953125)]\n"
     ]
    },
    {
     "name": "stderr",
     "output_type": "stream",
     "text": [
      "Bad pipe message: %s [b\"'\\xfb\\x15\\x0b\\x97\", b'\\x19\\xa6Nu\"&?0v\\xc2\\x89 3k\\xc1)\\xa1\\x84\\xc1\\xcbi\\xb5\\xd5U\"\\x9cY\\xa9\\xfa\\t\\xd0!\\xb5\\x81{\\xe0\\x1bZ\\xfb\\x071\\xa3\\x17\\xf2\\x00\\x08\\x13\\x02\\x13\\x03\\x13\\x01\\x00\\xff\\x01\\x00\\x00\\x8f\\x00\\x00\\x00\\x0e\\x00\\x0c\\x00\\x00\\t127.0.0.1\\x00\\x0b\\x00\\x04\\x03\\x00\\x01\\x02\\x00\\n\\x00\\x0c\\x00\\n\\x00\\x1d\\x00\\x17\\x00\\x1e\\x00\\x19\\x00\\x18\\x00#\\x00\\x00\\x00\\x16\\x00\\x00\\x00\\x17\\x00\\x00\\x00\\r\\x00\\x1e\\x00\\x1c\\x04\\x03\\x05\\x03\\x06\\x03\\x08\\x07\\x08\\x08\\x08\\t\\x08\\n\\x08\\x0b\\x08\\x04\\x08\\x05\\x08', b'\\x01\\x05\\x01\\x06\\x01']\n",
      "Bad pipe message: %s [b'\\x1b\\xf47\\xd4!\\xa4FKK\\x99\\xe4j,\\xe7\\xc1\\xff\\x06\\x97 RS\\x1c,\\xa1\\xd8^\\x16\\x1e\\xaf\\xc3\\xe1\\xb2\\x07\\x0b\\xca\\x83y\\xfe\\x90\\x15\\xfe\\xe1z\\xbf;\\x01\\x0e\\xa1\\x1eI-\\x00\\x08\\x13\\x02\\x13\\x03\\x13\\x01\\x00\\xff\\x01\\x00\\x00\\x8f\\x00\\x00\\x00\\x0e\\x00\\x0c\\x00\\x00\\t127.0.0.1\\x00\\x0b\\x00\\x04\\x03\\x00\\x01\\x02\\x00\\n\\x00\\x0c\\x00\\n\\x00\\x1d\\x00\\x17\\x00\\x1e\\x00\\x19\\x00\\x18\\x00#\\x00\\x00\\x00\\x16\\x00\\x00\\x00\\x17\\x00\\x00\\x00\\r\\x00\\x1e\\x00\\x1c\\x04\\x03\\x05', b'\\x03\\x08']\n",
      "Bad pipe message: %s [b'\\xc4\\xa2\\x90\\x06\\xa0\"\\x95\\xf20s\\xde:\\xe9n\\x13\\x07\\xf2\\x83\\x00\\x00|\\xc0,\\xc00\\x00\\xa3\\x00\\x9f\\xcc\\xa9\\xcc\\xa8\\xcc\\xaa\\xc0\\xaf\\xc0\\xad\\xc0\\xa3\\xc0\\x9f\\xc0]\\xc0a\\xc0W\\xc0S', b\"\\xc0/\\x00\\xa2\\x00\\x9e\\xc0\\xae\\xc0\\xac\\xc0\\xa2\\xc0\\x9e\\xc0\\\\\\xc0`\\xc0V\\xc0R\\xc0$\\xc0(\\x00k\\x00j\\xc0#\\xc0'\\x00g\\x00@\\xc0\\n\\xc0\\x14\\x009\\x008\\xc0\\t\\xc0\\x13\\x003\\x002\\x00\\x9d\\xc0\\xa1\\xc0\\x9d\\xc0Q\\x00\\x9c\\xc0\\xa0\\xc0\\x9c\\xc0P\\x00=\\x00<\\x005\\x00/\\x00\\x9a\\x00\\x99\\xc0\\x07\\xc0\\x11\\x00\\x96\\x00\\x05\\x00\\xff\\x01\\x00\\x00j\\x00\\x00\\x00\\x0e\\x00\\x0c\\x00\\x00\\t127.0.0.1\\x00\\x0b\\x00\\x04\\x03\\x00\\x01\\x02\\x00\\n\\x00\\x0c\\x00\\n\\x00\\x1d\\x00\\x17\\x00\\x1e\\x00\\x19\\x00\\x18\\x00#\\x00\\x00\\x00\\x16\\x00\\x00\\x00\\x17\\x00\\x00\\x00\\r\\x000\\x00.\\x04\\x03\\x05\\x03\\x06\\x03\\x08\\x07\\x08\\x08\\x08\\t\\x08\\n\\x08\\x0b\\x08\\x04\\x08\\x05\\x08\\x06\\x04\\x01\\x05\\x01\\x06\\x01\\x03\\x03\\x02\\x03\\x03\\x01\\x02\", b'', b'\\x02']\n",
      "Bad pipe message: %s [b'\\x08\\x08\\t\\x08\\n\\x08']\n",
      "Bad pipe message: %s [b'\\x05\\x02\\x06']\n",
      "Bad pipe message: %s [b'xc\\xf5\\xdc\\x02\\xd5\\xd7+1\\x88\\xe6\\xb7\\xa3\\x86R()|\\x00\\x00\\xf4\\xc00\\xc0,\\xc0(\\xc0$\\xc0\\x14\\xc0\\n\\x00\\xa5\\x00\\xa3\\x00\\xa1\\x00\\x9f\\x00k\\x00j\\x00i\\x00h\\x009\\x008\\x007\\x006\\x00\\x88\\x00\\x87\\x00\\x86\\x00\\x85\\xc0\\x19\\x00\\xa7\\x00m\\x00:\\x00\\x89\\xc02\\xc0.\\xc0*\\xc0&\\xc0\\x0f\\xc0\\x05\\x00\\x9d\\x00']\n",
      "Bad pipe message: %s [b'\\xec\\x80x']\n",
      "Bad pipe message: %s [b'\\xb1\\xf9\\x83\\xa37\\xdc\\x05`L\\xc4\\x19*\\x97\\xf5]B\\x85\\x1c\\x00\\x00\\xa2\\xc0\\x14\\xc0\\n\\x009\\x008\\x007\\x006\\x00\\x88\\x00\\x87\\x00\\x86\\x00\\x85\\xc0\\x19\\x00:\\x00\\x89\\xc0\\x0f\\xc0\\x05\\x005\\x00\\x84\\xc0\\x13\\xc0\\t\\x003\\x002\\x001\\x000\\x00\\x9a\\x00\\x99\\x00\\x98\\x00\\x97\\x00E\\x00D\\x00C\\x00B\\xc0\\x18\\x004\\x00\\x9b\\x00F\\xc0\\x0e\\xc0\\x04\\x00/\\x00\\x96\\x00A\\x00\\x07\\xc0\\x11\\xc0\\x07\\xc0\\x16\\x00\\x18\\xc0\\x0c\\xc0\\x02\\x00\\x05\\x00\\x04\\xc0\\x12\\xc0\\x08\\x00\\x16\\x00\\x13\\x00\\x10\\x00\\r\\xc0\\x17\\x00\\x1b\\xc0\\r\\xc0\\x03\\x00\\n\\x00\\x15\\x00\\x12\\x00\\x0f\\x00\\x0c\\x00\\x1a\\x00\\t\\x00\\x14\\x00\\x11\\x00\\x19\\x00\\x08\\x00\\x06\\x00\\x17\\x00\\x03\\xc0\\x10\\xc0\\x06\\xc0\\x15\\xc0\\x0b\\xc0\\x01\\x00\\x02\\x00\\x01']\n",
      "Bad pipe message: %s [b'\\xdf\\xf0K\\xa1\\xec\\xa29\\x9f8\\xfeFI\\tP\\xf0\\x80\\xa3\\xf1\\x00\\x00>\\xc0\\x14\\xc0\\n\\x009\\x008\\x007\\x006\\xc0\\x0f\\xc0\\x05\\x005\\xc0\\x13\\xc0\\t\\x003\\x002\\x001\\x000\\xc0\\x0e\\xc0\\x04\\x00', b'\\x9a\\x00\\x99\\x00\\x98\\x00\\x97\\x00\\x96\\x00\\x07\\xc0\\x11\\xc0\\x07\\xc0\\x0c\\xc0\\x02\\x00\\x05\\x00\\x04\\x00\\xff\\x02\\x01\\x00\\x00C\\x00\\x00\\x00\\x0e\\x00\\x0c\\x00\\x00\\t127.0.0']\n",
      "Bad pipe message: %s [b'\\n\\xf6\\xd2w6X+\\xae\\xb16\\xc8\\xa2\\xafc\\x84\\xba\\xab\\xb1\\x00\\x00\\xa2\\xc0\\x14\\xc0\\n\\x009\\x008\\x007\\x006\\x00\\x88\\x00\\x87\\x00\\x86\\x00\\x85\\xc0\\x19\\x00:\\x00\\x89\\xc0\\x0f\\xc0', b'5\\x00\\x84\\xc0']\n",
      "Bad pipe message: %s [b'\\xf9\\x94\\xce\\x89H\\x82\\x9f=\\xe4\\xeb\\xd7\\x99\\xb8\\x8c\\xfa\\xd8~\\xa0\\x00\\x00>\\xc0\\x14\\xc0\\n\\x009\\x008\\x007\\x006\\xc0\\x0f\\xc0\\x05\\x005\\xc0\\x13\\xc0\\t\\x003\\x002\\x001\\x000\\xc0\\x0e\\xc0\\x04\\x00/\\x00\\x9a\\x00\\x99\\x00\\x98\\x00\\x97\\x00\\x96\\x00\\x07\\xc0\\x11\\xc0\\x07\\xc0\\x0c\\xc0', b'\\x05']\n",
      "Bad pipe message: %s [b'\\x04\\x08\\x05\\x08\\x06\\x04\\x01\\x05\\x01\\x06']\n",
      "Bad pipe message: %s [b'\\t\\x003\\x002\\x001\\x000\\x00\\x9a\\x00\\x99\\x00\\x98\\x00\\x97\\x00']\n",
      "Bad pipe message: %s [b\"5\\x00\\x84\\xc0/\\xc0+\\xc0'\\xc0#\\xc0\\x13\\xc0\\t\\x00\\xa4\\x00\\xa2\\x00\\xa0\\x00\\x9e\\x00g\\x00@\\x00?\\x00>\\x003\\x002\\x001\\x000\\x00\\x9a\\x00\\x99\\x00\\x98\\x00\\x97\\x00E\\x00D\\x00C\\x00B\\xc0\\x18\\x00\\xa6\\x00\"]\n",
      "Bad pipe message: %s [b\"\\xb5\\x86\\xf2\\xeb\\xc6\\x8a|R\\x97\\x0c\\xfa\\xe2\\x04\\x00\\x00\\x86\\xc00\\xc0,\\xc0(\\xc0$\\xc0\\x14\\xc0\\n\\x00\\xa5\\x00\\xa3\\x00\\xa1\\x00\\x9f\\x00k\\x00j\\x00i\\x00h\\x009\\x008\\x007\\x006\\xc02\\xc0.\\xc0*\\xc0&\\xc0\\x0f\\xc0\\x05\\x00\\x9d\\x00=\\x005\\xc0/\\xc0+\\xc0'\\xc0#\\xc0\\x13\\xc0\\t\\x00\\xa4\\x00\\xa2\\x00\\xa0\\x00\\x9e\\x00g\\x00@\\x00?\\x00>\\x003\\x002\\x001\\x000\\xc01\\xc0-\\xc0)\\xc0%\\xc0\\x0e\\xc0\\x04\\x00\\x9c\\x00<\\x00/\\x00\\x9a\\x00\\x99\\x00\\x98\\x00\\x97\\x00\\x96\\x00\\x07\\xc0\\x11\\xc0\\x07\\xc0\\x0c\\xc0\\x02\\x00\\x05\\x00\\x04\\x00\\xff\\x02\\x01\\x00\\x00g\\x00\\x00\\x00\\x0e\\x00\\x0c\\x00\\x00\\t127.0.0.1\\x00\\x0b\\x00\"]\n",
      "Bad pipe message: %s [b'']\n",
      "Bad pipe message: %s [b'D\\x00C\\x00B\\xc0\\x18\\x004\\x00\\x9b\\x00F\\xc0\\x0e\\xc0\\x04\\x00/\\x00\\x96\\x00A\\x00\\x07\\xc0\\x11\\xc0\\x07\\xc0\\x16\\x00\\x18\\xc0\\x0c\\xc0\\x02\\x00\\x05\\x00\\x04\\xc0\\x12\\xc0\\x08\\x00\\x16\\x00\\x13\\x00\\x10\\x00\\r\\xc0\\x17\\x00\\x1b\\xc0\\r\\xc0\\x03\\x00\\n\\x00\\x15\\x00\\x12\\x00']\n",
      "Bad pipe message: %s [b'4\\x00\\x9b\\x00F\\xc01\\xc0-\\xc0)\\xc0%\\xc0\\x0e\\xc0\\x04\\x00\\x9c\\x00<\\x00/\\x00\\x96\\x00A\\x00\\x07\\xc0\\x11\\xc0\\x07\\xc0\\x16\\x00\\x18\\xc0\\x0c\\xc0\\x02\\x00\\x05\\x00\\x04\\xc0\\x12\\xc0\\x08\\x00\\x16\\x00\\x13\\x00\\x10\\x00\\r\\xc0\\x17\\x00\\x1b\\xc0\\r\\xc0\\x03\\x00\\n\\x00\\x15\\x00\\x12\\x00\\x0f\\x00\\x0c\\x00\\x1a\\x00\\t\\x00\\x14\\x00\\x11\\x00\\x19\\x00\\x08\\x00\\x06\\x00\\x17\\x00\\x03\\xc0\\x10\\xc0\\x06\\xc0\\x15\\xc0\\x0b\\xc0\\x01\\x00;\\x00\\x02']\n",
      "Bad pipe message: %s [b'\\x03\\x02\\x03\\x04\\x00-\\x00\\x02\\x01\\x01\\x003\\x00&\\x00$\\x00\\x1d\\x00 G\\xa9\\x8f\\x11\\xceX\\x0b:\\xba\\xa0\\xfe\\x93\\x0b{\\x1cz\\x9a\\xd7E\\xdd\\x8c\\xad']\n",
      "Bad pipe message: %s [b'\\x0c\\x00\\x1a\\x00\\t\\x00\\x14\\x00\\x11\\x00\\x19\\x00\\x08\\x00']\n",
      "Bad pipe message: %s [b'\\x17\\x00\\x03\\xc0\\x10']\n"
     ]
    }
   ],
   "source": [
    "import jieba.analyse\n",
    "\n",
    "# 读取文本并进行分词\n",
    "with open('1.txt', 'r', encoding='utf-8') as f:\n",
    "    text = f.read()\n",
    "words = jieba.lcut(text)\n",
    "\n",
    "# 提取前10个关键词及其权重\n",
    "top_k = 10\n",
    "keywords_with_weight = jieba.analyse.extract_tags(text, topK=top_k, withWeight=True)\n",
    "print(keywords_with_weight)\n"
   ]
  },
  {
   "cell_type": "code",
   "execution_count": 7,
   "metadata": {},
   "outputs": [
    {
     "name": "stdout",
     "output_type": "stream",
     "text": [
      "Full Mode（全模式）: 张/ 吉/ 惟/ / \n",
      "/ / \n",
      "/ / \t/ / EXCEL/ / \n",
      "/ / \t/ / PPT/ / \n",
      "/ / \t/ / WORD/ / \n",
      "/ / \t/ / AI/ / \n",
      "/ / \t/ / PS/ / \n",
      "/ / \t/ / 个人/ 技能/ / \n",
      "/ / \t/ / 出生/ 出生年月/ 生年/ 月/ ：/ 1998/ ./ 11/ / \n",
      "/ / \t/ / 性/ /  / /  / /  / /  / / 别/ ：/ 女/ / \n",
      "/ / \t/ / 籍/ /  / /  / /  / /  / / 贯/ ：/ 北京/ 京海/ 海淀/ 海淀区/ 淀区/ / \n",
      "/ / \t/ / 学/ /  / /  / /  / /  / / 历/ ：/ 本科/ / \n",
      "/ / \t/ / 政治/ 政治面貌/ 面貌/ ：/ 党员/ / \n",
      "/ / \t/ / 身/ /  / /  / /  / /  / / 高/ ：/ 178cm/ / \n",
      "/ / \t/ / 体/ /  / /  / /  / /  / / 重/ ：/ 50kg/ / \n",
      "/ / \t/ / 工作/ 经历/ / \n",
      "/ / \t/ / 自我/ 评价/ / \n",
      "/ / \t/ / 个人/ 个人爱好/ 爱好/ / \n",
      "/ / \t/ / 本人/ 人性/ 性格/ 性格开朗/ 开朗/ 、/ 稳重/ 、/ 有/ 活力/ ，/ 待人/ 热情/ 、/ 真诚/ 。/ 有/ 较/ 强/ 的/ 组织/ 能力/ 、/ 团体/ 体协/ 协作/ 精神/ ，/ 较/ 好/ 的/ 社交/ 社交能力/ 能力/ ，/ 善于/ 处理/ 各种/ 人际/ 人际关系/ 关系/ 。/ 能/ 迅速/ 的/ 适应/ 各种/ 环境/ ，/ 并/ 融合/ 其中/ 。/ 能/ 把/ 企业/ 当作/ 作家/ 家庭/ ，/ 企业/ 的/ 财富/ 就是/ 我/ 的/ 财富/ ，/ 在/ 努力/ 为/ 企业/ 服务/ 的/ 过程/ 中实/ 实现/ 自身/ 身价/ 价值/ 。/ \n",
      "/ / \t/ / zhangjiwei/ @/ 163/ ./ com/ / \n",
      "/ / \t/ / 138/ /  / / 9999/ /  / / 9999/ / \n",
      "/ / 求职/ 求职意向/ 意向/ ：/ 行政/ 管理/ 类/ / \n",
      "/ / \t/ / 基本/ 信息/ / \n",
      "/ / \t/ / 2016/ / \t/ / 全国/ 国大/ 大学/ 大学生/ 学生/ 英语/ 竞赛/ 一等/ 一等奖/ / \n",
      "/ / \t/ / 2017/ / \t/ / 国家/ 国家级/ 一等/ 一等奖/ 奖学/ 奖学金/ / \n",
      "/ / \t/ / 2018/ / \t/ / 大学/ 英语/ 6/ 级/ 证书/ （/ CET/ -/ 6/ ）/ \n",
      "/ / \t/ / 奖励/ 证书/ / \n",
      "/ / \t/ / 教育/ 背景/ / \n",
      "/ / \t/ / 2015/ -/ 2019/ / \t/ / 国际/ 经济/ 与/ 贸易/ / \n",
      "/ / \t/ / 北京/ 北京师范大学/ 京师/ 师范/ 师范大学/ 大学/ / \n",
      "/ / \t/ / 政治/ 政治经济/ 政治经济学/ 经济/ 经济学/ 济学/ 、/ 西方/ 经济/ 经济学/ 济学/ 、/ 国际/ 经济/ 经济学/ 济学/ 、/ 计量/ 计量经济学/ 经济/ 经济学/ 济学/ 、/ 世界/ 经济/ 概论/ 、/ 国际/ 国际贸易/ 贸易/ 理论/ 与/ 实务/ 、/ 国际/ 国际金融/ 金融/ 、/ 国际/ 结算/ 。/ \n",
      "/ / \t/ / 2022/ ./ 3/ 至今/ / \t/ / 部长/ 助理/ / \n",
      "/ / \t/ / 北京/ 猫眼/ 机械/ 有限/ 有限公司/ 公司/ / \n",
      "/ / \t/ / 质/ 管/ 部/ 部长/ 助理/ ./ 负责/ 票证/ 车间/ 生产/ 质量/ 质量检查/ 检查/ ,/ 控制/ ,/ 兼任/ 企业/ 业内/ 内审/ 内审员/ ,/ 推行/ ISO9001/ :/ 2008/ 及/ ISO14000/ 体系/ 并/ 年/ 审/ 。/ \n",
      "/ / \t/ / 2021/ ./ 2/ -/ 2022/ ./ 3/ / \t/ / 总经理/ 经理/ 经理助理/ 助理/ / \n",
      "/ / \t/ / 北京/ 猫眼/ 国际/ 货运/ 代理/ 有限/ 有限公司/ 公司/ / \n",
      "/ / \t/ / 根据/ 公司/ 的/ 经营/ 理念/ 和/ 发展/ 战略/ 制定/ 公司/ 各/ 工作/ 工作岗位/ 岗位/ 的/ 工作/ 目标/ ;/ 负责/ 负责制/ 制定/ 及/ 推进/ 公司/ 公司员工/ 司员/ 员工/ 的/ 培训/ 、/ 绩效/ 、/ 薪酬/ 的/ 管理/ 。/ \n",
      "/ / \t/ / 2020/ ./ 2/ -/ 2021/ ./ 2/ / \t/ / 运营/ 助理/ / \n",
      "/ / \t/ / 北京/ 猫眼/ 文化/ 文化传媒/ 传媒/ 有限/ 有限公司/ 公司/ / \n",
      "/ / \t/ / 根据/ 目标/ 管理/ 综合/ 考评/ 内容/ ，/ 深入/ 、/ 细致/ 地/ 到/ 所/ 跟踪/ 的/ 各场/ 场所/ 了解/ 、/ 掌握/ 掌握情况/ 情况/ ，/ 帮助/ 和/ 促进/ 各场/ 场所/ 提高/ 高行/ 行政/ 、/ 后勤/ 管理/ 管理水平/ 水平/ 。\n"
     ]
    }
   ],
   "source": [
    "seg_list = jieba.cut(str_zhang, cut_all=True)\n",
    "print(\"Full Mode（全模式）: \" + \"/ \".join(seg_list))  # 全模式\n",
    "\n"
   ]
  },
  {
   "cell_type": "code",
   "execution_count": null,
   "metadata": {},
   "outputs": [],
   "source": [
    "seg_list = jieba.cut(str_zhang, cut_all=False)\n",
    "print(\"Default Mode（精确模式）: \" + \"/ \".join(seg_list))  # 精确模式\n",
    "\n",
    "\n"
   ]
  },
  {
   "cell_type": "code",
   "execution_count": null,
   "metadata": {},
   "outputs": [],
   "source": [
    "\n",
    "print(\"搜索引擎模式如下：\")\n",
    "seg_list = jieba.cut_for_search(str_zhang)  # 搜索引擎模式\n",
    "#seg_list = jieba.cut(\"小明硕士毕业于中国科学院计算所，后在日本京都大学深造\") \n",
    "print(\", \".join(seg_list))"
   ]
  }
 ],
 "metadata": {
  "kernelspec": {
   "display_name": "Python 3",
   "language": "python",
   "name": "python3"
  },
  "language_info": {
   "codemirror_mode": {
    "name": "ipython",
    "version": 3
   },
   "file_extension": ".py",
   "mimetype": "text/x-python",
   "name": "python",
   "nbconvert_exporter": "python",
   "pygments_lexer": "ipython3",
   "version": "3.8.16"
  },
  "orig_nbformat": 4
 },
 "nbformat": 4,
 "nbformat_minor": 2
}
